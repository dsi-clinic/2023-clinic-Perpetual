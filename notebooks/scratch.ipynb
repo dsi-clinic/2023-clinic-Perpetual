{
 "cells": [
  {
   "cell_type": "code",
   "execution_count": 75,
   "metadata": {},
   "outputs": [],
   "source": [
    "import configparser\n",
    "import folium\n",
    "import pandas as pd\n",
    "import numpy as np\n",
    "\n",
    "def add_markers(f_map, points, color=\"blue\"):\n",
    "    \"\"\"\n",
    "    Given a folium map, route data (includes location names), and a color (str),\n",
    "    draw markers on the given map\n",
    "\n",
    "    Parameters:\n",
    "        f_map : folium map\n",
    "        route_data : pd.DataFrame\n",
    "        color : str (e.g., \"red\", \"blue\")\n",
    "    \"\"\"\n",
    "\n",
    "    for i in range(len(points)):\n",
    "        row = points.iloc[i]\n",
    "        loc_name = row[\"Name\"]\n",
    "        y, x = row[[\"Latitude\", \"Longitude\"]]\n",
    "        address = row[\"Address\"]\n",
    "        index = points.index[i]\n",
    "        dropoff, pickup = row[[\"Weekly_Dropoff_Totes\", \"Daily_Pickup_Totes\"]]\n",
    "        pickup_type = row[\"pickup_type\"]\n",
    "        popup_html = f\"\"\"\n",
    "                Index: {index}\n",
    "                <br>\n",
    "                Name: {loc_name}\n",
    "                <br>\n",
    "                Address: {address}\n",
    "                <br>\n",
    "                Dropoff (weekly): {dropoff}\n",
    "                <br>\n",
    "                Pickup (daily): {pickup}\n",
    "                <br>\n",
    "                Pickup Type: {pickup_type}\n",
    "                \"\"\"\n",
    "        popup = folium.Popup(popup_html, max_width=700)\n",
    "\n",
    "        folium.Marker(\n",
    "            (y, x), popup=popup, parse_html=True, icon=folium.Icon(color=color)\n",
    "        ).add_to(f_map)\n",
    "    return None"
   ]
  },
  {
   "cell_type": "code",
   "execution_count": 76,
   "metadata": {},
   "outputs": [],
   "source": [
    "# \"\"\"\n",
    "# Table of Contents:\n",
    "# 1. Read config\n",
    "# 2. Parse Config\n",
    "# 3. Read single-truth dataframe and distance matrix\n",
    "# 4. Make a copy of distance matrix filtered to bike-to-truck distances only\n",
    "# 5. Find truck points within config's radius of bike points\n",
    "# 5.1. Mark aggregate points\n",
    "# 6. Convert 5.1's points to bike-servicable points\n",
    "# 7. Prepare dataframes for output\n",
    "# 8. Prepare distance matrices for output\n",
    "# 9. Export everything\n",
    "# \"\"\""
   ]
  },
  {
   "cell_type": "code",
   "execution_count": 77,
   "metadata": {},
   "outputs": [],
   "source": [
    "# 0. experimental variables\n",
    "aggs = [72]\n",
    "\n",
    "# 1. read config\n",
    "config = configparser.ConfigParser()\n",
    "config.read(\"../utils/config_inputs.ini\")\n",
    "cfg = config[\"convert.to_bikes\"]\n",
    "\n",
    "# 2. parse config\n",
    "truth_df_path = cfg[\"truth_df_path\"]\n",
    "truth_dist_df_path = cfg[\"truth_dist_df_path\"]\n",
    "location = [float(cfg[\"Latitude\"]), float(cfg[\"Longitude\"])]\n",
    "distance_thresh = float(cfg[\"distance_thresh\"])  # in meters\n",
    "\n",
    "map_save_path = cfg[\"map_save_path\"]\n",
    "truck_df_savepath = cfg[\"truck_df_savepath\"]\n",
    "bike_df_savepath = cfg[\"bike_df_savepath\"]\n",
    "truck_dist_df_savepath = cfg[\"truck_dist_df_savepath\"]\n",
    "bike_dist_df_savepath = cfg[\"bike_dist_df_savepath\"]\n",
    "\n",
    "# 3. read single-truth dataframe and single-truth distance matrix\n",
    "truth_df = pd.read_csv(truth_df_path)\n",
    "truth_dist = pd.read_csv(truth_dist_df_path)"
   ]
  },
  {
   "cell_type": "code",
   "execution_count": 78,
   "metadata": {},
   "outputs": [],
   "source": [
    "# 4. filter distance mtrx to distances from bike to truck-served locations\n",
    "bike_df = truth_df[truth_df[\"pickup_type\"] == \"Bike\"]\n",
    "bike_ind = bike_df.index.to_list()\n",
    "drop_bike_cols = [str(i) for i in bike_ind]\n",
    "bike_to_truck_dists = truth_dist.iloc[bike_ind].drop(columns=drop_bike_cols)"
   ]
  },
  {
   "cell_type": "code",
   "execution_count": 79,
   "metadata": {},
   "outputs": [],
   "source": [
    "# 5. mark truck-served points within {distance_thresh} of bike-served points\n",
    "converts_ind = []\n",
    "for col in bike_to_truck_dists.columns:\n",
    "    if min(bike_to_truck_dists[col]) <= distance_thresh and int(col):\n",
    "        converts_ind.append(int(col))"
   ]
  },
  {
   "cell_type": "code",
   "execution_count": 80,
   "metadata": {},
   "outputs": [],
   "source": [
    "# 6. convert marked truck-serviced locations to bike-servicable locations\n",
    "converted_truth_df = truth_df.copy()\n",
    "for i in converts_ind:\n",
    "    if i in aggs:\n",
    "        converted_truth_df.at[i, \"pickup_type\"] = \"Bike_Aggregate\"\n",
    "    else:\n",
    "        converted_truth_df.at[i, \"pickup_type\"] = \"Bike\""
   ]
  },
  {
   "cell_type": "code",
   "execution_count": 81,
   "metadata": {},
   "outputs": [],
   "source": [
    "# indices\n",
    "total_ind = {i for i in range(len(truth_df))}\n",
    "bike_all_ind = sorted(bike_ind + converts_ind)\n",
    "truck_ind = sorted(list(total_ind - set(bike_all_ind)) + aggs)"
   ]
  },
  {
   "cell_type": "code",
   "execution_count": 65,
   "metadata": {},
   "outputs": [],
   "source": [
    "# 6.1. assign aggregate locations for each bike point\n",
    "drop_truck_cols = [str(i) for i in truck_ind]\n",
    "agg_to_bike_dists = truth_dist.iloc[aggs].drop(columns = drop_truck_cols)\n",
    "agg_assignments = {}\n",
    "for col in agg_to_bike_dists.columns:\n",
    "    agg_assignments[int(col)] = aggs[np.argmin(agg_to_bike_dists[col])]"
   ]
  },
  {
   "cell_type": "code",
   "execution_count": 70,
   "metadata": {},
   "outputs": [],
   "source": [
    "for key in agg_assignments:\n",
    "    converted_truth_df.at[key, 'Bike Aggregation Point'] = agg_assignments[key]"
   ]
  },
  {
   "cell_type": "code",
   "execution_count": null,
   "metadata": {},
   "outputs": [],
   "source": [
    "# 7. prepare info dataframes for output\n",
    "truck_converted_df = converted_truth_df[\n",
    "    (converted_truth_df[\"pickup_type\"] == \"Truck\")\n",
    "    | (converted_truth_df[\"pickup_type\"] == \"Bike_Aggregate\")\n",
    "]\n",
    "bike_converted_df = converted_truth_df[\n",
    "    (converted_truth_df[\"pickup_type\"] == \"Bike\")\n",
    "    | (converted_truth_df[\"pickup_type\"] == \"Bike_Aggregate\")\n",
    "]\n",
    "\n",
    "# 8. prepare distance matrices for output\n",
    "truck_dist_df = truth_dist[[str(i) for i in truck_ind]].iloc[truck_ind]\n",
    "bike_dist_df = truth_dist[[str(i) for i in bike_ind]].iloc[bike_ind]\n",
    "\n",
    "# 9. export dataframes\n",
    "truck_converted_df.to_csv(truck_df_savepath)\n",
    "bike_converted_df.to_csv(bike_df_savepath)\n",
    "truck_dist_df.to_csv(truck_dist_df_savepath)\n",
    "bike_dist_df.to_csv(bike_dist_df_savepath)\n",
    "\n",
    "# 10. visualize\n",
    "\n",
    "converts_no_aggs_ind = list(set(converts_ind) - set(aggs))\n",
    "converts_df = truth_df.iloc[converts_no_aggs_ind]\n",
    "for i in converts_no_aggs_ind:\n",
    "    converts_df.at[i, \"pickup_type\"] = \"Bike_Converted\"\n",
    "bike_agg_df = truth_df.iloc[aggs]\n",
    "for i in aggs:\n",
    "    bike_agg_df.at[i, \"pickup_type\"] = \"Bike_Aggregate\"\n",
    "\n",
    "map = folium.Map(location=location, tiles=\"OpenStreetMap\", zoom_start=11)\n",
    "add_markers(map, truck_converted_df, \"blue\")\n",
    "add_markers(map, bike_df, \"red\")\n",
    "add_markers(map, converts_df, \"green\")\n",
    "add_markers(map, bike_agg_df, \"orange\")\n",
    "\n",
    "map.save(map_save_path)"
   ]
  }
 ],
 "metadata": {
  "kernelspec": {
   "display_name": "Python 3 (ipykernel)",
   "language": "python",
   "name": "python3"
  },
  "language_info": {
   "codemirror_mode": {
    "name": "ipython",
    "version": 3
   },
   "file_extension": ".py",
   "mimetype": "text/x-python",
   "name": "python",
   "nbconvert_exporter": "python",
   "pygments_lexer": "ipython3",
   "version": "3.11.6"
  }
 },
 "nbformat": 4,
 "nbformat_minor": 4
}
