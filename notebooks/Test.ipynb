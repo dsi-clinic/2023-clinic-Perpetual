{
 "cells": [
  {
   "cell_type": "code",
   "execution_count": 2,
   "metadata": {},
   "outputs": [],
   "source": [
    "# Example Notebook file demonstrating how to use the file structure\n",
    "\n",
    "from utils.preprocess_util_lib_example import save_random_dataframe\n",
    "from pathlib import Path\n",
    "\n",
    "save_random_dataframe(Path(\"../output\"), Path(\"test.csv\"))"
   ]
  }
 ],
 "metadata": {
  "kernelspec": {
   "display_name": "Python 3.9.12 ('base')",
   "language": "python",
   "name": "python3"
  },
  "language_info": {
   "codemirror_mode": {
    "name": "ipython",
    "version": 3
   },
   "file_extension": ".py",
   "mimetype": "text/x-python",
   "name": "python",
   "nbconvert_exporter": "python",
   "pygments_lexer": "ipython3",
   "version": "3.9.12"
  },
  "orig_nbformat": 4,
  "vscode": {
   "interpreter": {
    "hash": "fa146dc85684d01c0fbefc12c922851e3b99535c9d6fe22fccf5bcfd650c977c"
   }
  }
 },
 "nbformat": 4,
 "nbformat_minor": 2
}
