{
 "cells": [
  {
   "cell_type": "markdown",
   "metadata": {},
   "source": [
    "We have a full dataframe of service locations that have been marked for dropoff clusters. We want to subset into 5 separate dataframes for each cluster - we will separate dropoff into 5 days for each cluster. \n",
    "\n",
    "Perform a knn clustering algorithm to create 3 clusters for dropoff based on location. \n",
    "\n",
    "We also need to subset the 5 corresponding distance matrices.  "
   ]
  },
  {
   "cell_type": "code",
   "execution_count": 26,
   "metadata": {},
   "outputs": [],
   "source": [
    "import pandas as pd\n",
    "import numpy as np\n",
    "import matplotlib.pyplot as plt\n",
    "from sklearn.cluster import KMeans\n",
    "import seaborn as sns; sns.set()\n",
    "import csv"
   ]
  },
  {
   "cell_type": "code",
   "execution_count": 29,
   "metadata": {},
   "outputs": [],
   "source": [
    "#import the dataframe and distance matrix\n",
    "full_df = pd.read_csv(\"../data/truck_pts_galv_cluster_dropoff.csv\")\n",
    "full_distances = pd.read_csv(\"../data/truck_distances_galv.csv\")"
   ]
  },
  {
   "cell_type": "code",
   "execution_count": 28,
   "metadata": {},
   "outputs": [
    {
     "name": "stderr",
     "output_type": "stream",
     "text": [
      "/Library/Frameworks/Python.framework/Versions/3.11/lib/python3.11/site-packages/sklearn/cluster/_kmeans.py:870: FutureWarning: The default value of `n_init` will change from 10 to 'auto' in 1.4. Set the value of `n_init` explicitly to suppress the warning\n",
      "  warnings.warn(\n",
      "/Library/Frameworks/Python.framework/Versions/3.11/lib/python3.11/site-packages/sklearn/cluster/_kmeans.py:870: FutureWarning: The default value of `n_init` will change from 10 to 'auto' in 1.4. Set the value of `n_init` explicitly to suppress the warning\n",
      "  warnings.warn(\n"
     ]
    }
   ],
   "source": [
    "# #k-means clustering by location\n",
    "# num_clusters = 3\n",
    "# kmeans = KMeans(n_clusters = num_clusters, init ='k-means++')\n",
    "# kmeans.fit(full_df[full_df.columns[1:3]]) # Compute k-means clustering.\n",
    "# full_df['cluster_number'] = kmeans.fit_predict(full_df[full_df.columns[1:3]])"
   ]
  },
  {
   "cell_type": "code",
   "execution_count": 31,
   "metadata": {},
   "outputs": [],
   "source": [
    "#create the lopp that will subset each locations df and distance matrix\n",
    "#with the indices for that cluster\n",
    "\n",
    "for cluster_num in range(1, 6):\n",
    "    #set moody gardens cluster to the cluster for that day, that \n",
    "    #way it gets included in every day\n",
    "    full_df.loc[full_df.loc[:, \"Name\"]==\"Moody Gardens\", \"cluster_number\"] = cluster_num\n",
    "\n",
    "    #get the indicies of all points in the cluster\n",
    "    cluster_indices = full_df.loc[(full_df.loc[:, \"cluster_number\"]==\n",
    "                              cluster_num), :].index.values.tolist()\n",
    "    \n",
    "    #subset the locations df into cluster_only points\n",
    "    cluster_only_pts = full_df.iloc[cluster_indices]\n",
    "    cluster_only_pts.reset_index(inplace=True, drop=True)\n",
    "\n",
    "    #subset the distance matrix into distances of the cluster_only locations\n",
    "    columns_for_cluster = [str(i) for i in cluster_indices]\n",
    "    cluster_distances = full_distances.loc[cluster_indices, columns_for_cluster]\n",
    "    cluster_distances.reset_index(inplace=True, drop=True)\n",
    "    cluster_distances.columns = [str(i) for i in range(len(cluster_indices))]\n",
    "    \n",
    "    #save the df and distance matrix for each cluster \n",
    "    path_string = \"../output/one_truck_dropoff_daily/cluster\" + str(cluster_num) + \".csv\"\n",
    "    cluster_only_pts.to_csv(path_string, index=False)\n",
    "\n",
    "    path_string = \"../output/one_truck_dropoff_daily/distances\" + str(cluster_num) + \".csv\"\n",
    "    cluster_distances.to_csv(path_string, index=False)\n",
    "    \n",
    "    "
   ]
  }
 ],
 "metadata": {
  "kernelspec": {
   "display_name": "Python 3",
   "language": "python",
   "name": "python3"
  },
  "language_info": {
   "codemirror_mode": {
    "name": "ipython",
    "version": 3
   },
   "file_extension": ".py",
   "mimetype": "text/x-python",
   "name": "python",
   "nbconvert_exporter": "python",
   "pygments_lexer": "ipython3",
   "version": "3.11.2"
  }
 },
 "nbformat": 4,
 "nbformat_minor": 2
}
