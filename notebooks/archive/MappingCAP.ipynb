{
 "cells": [
  {
   "cell_type": "code",
   "execution_count": 2,
   "metadata": {},
   "outputs": [
    {
     "name": "stderr",
     "output_type": "stream",
     "text": [
      "/Users/rahimrasool/Documents/Data Science Institute/Perpetual/Summer-23/git-repo/Perpetual/perpetual_env/lib/python3.9/site-packages/urllib3/__init__.py:34: NotOpenSSLWarning: urllib3 v2.0 only supports OpenSSL 1.1.1+, currently the 'ssl' module is compiled with 'LibreSSL 2.8.3'. See: https://github.com/urllib3/urllib3/issues/3020\n",
      "  warnings.warn(\n"
     ]
    }
   ],
   "source": [
    "import pandas as pd\n",
    "import numpy as np\n",
    "import folium\n",
    "import requests\n",
    "import pandas as pd\n",
    "import numpy as np\n",
    "import pyproj\n",
    "import polyline\n",
    "import pickle\n",
    "import ast\n",
    "import configparser\n",
    "from folium import IFrame"
   ]
  },
  {
   "cell_type": "code",
   "execution_count": 3,
   "metadata": {},
   "outputs": [],
   "source": [
    "config = configparser.ConfigParser()\n",
    "config.read('config.ini')\n",
    "mapbox_token = config['mapbox']['token']"
   ]
  },
  {
   "cell_type": "code",
   "execution_count": 4,
   "metadata": {},
   "outputs": [],
   "source": [
    "filename = 'data/generated_route_list/CAProute_list_20230913_145319.pkl'\n",
    "\n",
    "with open(filename, 'rb') as file:\n",
    "    route_data = pickle.load(file)"
   ]
  },
  {
   "cell_type": "code",
   "execution_count": 5,
   "metadata": {},
   "outputs": [],
   "source": [
    "# convert route_data to a dictionary\n",
    "route_dict = {}\n",
    "for i in range(len(route_data)):\n",
    "    route_dict['Route {}'.format(i+1)] = route_data[i]\n"
   ]
  },
  {
   "cell_type": "code",
   "execution_count": 6,
   "metadata": {},
   "outputs": [],
   "source": [
    "# For each key in route_dict, if the list size is greater than 25, split the list into lists of 25\n",
    "for key in route_dict.keys():\n",
    "    if len(route_dict[key]) > 25:\n",
    "        route_dict[key] = [route_dict[key][i:i+25] for i in range(0, len(route_dict[key]), 25)]\n"
   ]
  },
  {
   "cell_type": "code",
   "execution_count": 7,
   "metadata": {},
   "outputs": [
    {
     "data": {
      "text/html": [
       "<div>\n",
       "<style scoped>\n",
       "    .dataframe tbody tr th:only-of-type {\n",
       "        vertical-align: middle;\n",
       "    }\n",
       "\n",
       "    .dataframe tbody tr th {\n",
       "        vertical-align: top;\n",
       "    }\n",
       "\n",
       "    .dataframe thead th {\n",
       "        text-align: right;\n",
       "    }\n",
       "</style>\n",
       "<table border=\"1\" class=\"dataframe\">\n",
       "  <thead>\n",
       "    <tr style=\"text-align: right;\">\n",
       "      <th></th>\n",
       "      <th>Name</th>\n",
       "      <th>Weekly_Dropoff_Totes</th>\n",
       "      <th>Daily_Pickup_Totes</th>\n",
       "      <th>Address</th>\n",
       "      <th>Latitude</th>\n",
       "      <th>Longitude</th>\n",
       "    </tr>\n",
       "  </thead>\n",
       "  <tbody>\n",
       "    <tr>\n",
       "      <th>0</th>\n",
       "      <td>Moody Gardens</td>\n",
       "      <td>0.0</td>\n",
       "      <td>0.0</td>\n",
       "      <td>1 Hope Blvd, Galveston</td>\n",
       "      <td>29.2736</td>\n",
       "      <td>-94.8523</td>\n",
       "    </tr>\n",
       "    <tr>\n",
       "      <th>1</th>\n",
       "      <td>Sugar Bean</td>\n",
       "      <td>1.0</td>\n",
       "      <td>1.0</td>\n",
       "      <td>11 Evia Main, Galveston</td>\n",
       "      <td>29.2610</td>\n",
       "      <td>-94.8704</td>\n",
       "    </tr>\n",
       "    <tr>\n",
       "      <th>2</th>\n",
       "      <td>MAC-IES</td>\n",
       "      <td>1.0</td>\n",
       "      <td>1.0</td>\n",
       "      <td>1110 23rd Street, Galveston</td>\n",
       "      <td>29.2989</td>\n",
       "      <td>-94.7914</td>\n",
       "    </tr>\n",
       "    <tr>\n",
       "      <th>3</th>\n",
       "      <td>Good Dough</td>\n",
       "      <td>1.0</td>\n",
       "      <td>1.0</td>\n",
       "      <td>1508 39th Street, Galveston</td>\n",
       "      <td>29.2906</td>\n",
       "      <td>-94.8085</td>\n",
       "    </tr>\n",
       "    <tr>\n",
       "      <th>4</th>\n",
       "      <td>Porch Cafe</td>\n",
       "      <td>1.0</td>\n",
       "      <td>1.0</td>\n",
       "      <td>1625 East Beach Drive #2A, Galveston</td>\n",
       "      <td>29.3196</td>\n",
       "      <td>-94.7502</td>\n",
       "    </tr>\n",
       "  </tbody>\n",
       "</table>\n",
       "</div>"
      ],
      "text/plain": [
       "            Name  Weekly_Dropoff_Totes  Daily_Pickup_Totes  \\\n",
       "0  Moody Gardens                   0.0                 0.0   \n",
       "1     Sugar Bean                   1.0                 1.0   \n",
       "2        MAC-IES                   1.0                 1.0   \n",
       "3     Good Dough                   1.0                 1.0   \n",
       "4     Porch Cafe                   1.0                 1.0   \n",
       "\n",
       "                                Address  Latitude  Longitude  \n",
       "0                1 Hope Blvd, Galveston   29.2736   -94.8523  \n",
       "1               11 Evia Main, Galveston   29.2610   -94.8704  \n",
       "2           1110 23rd Street, Galveston   29.2989   -94.7914  \n",
       "3           1508 39th Street, Galveston   29.2906   -94.8085  \n",
       "4  1625 East Beach Drive #2A, Galveston   29.3196   -94.7502  "
      ]
     },
     "execution_count": 7,
     "metadata": {},
     "output_type": "execute_result"
    }
   ],
   "source": [
    "# read excel file\n",
    "df = pd.read_csv('data/Galveston_data/FUE_capacity_high_adoption_with_outdoors.csv')\n",
    "df.head()"
   ]
  },
  {
   "cell_type": "code",
   "execution_count": 8,
   "metadata": {},
   "outputs": [],
   "source": [
    "# create a dictionary from the df dataframe where the key is the index and value is the name\n",
    "name_dict = dict(zip(df.index, df['Name']))\n",
    "\n",
    "# create a dictionary from the df dataframe where the key is the index and value is the pickup_capacity\n",
    "pickup_capacity_dict = dict(zip(df.index, df['Daily_Pickup_Totes']))"
   ]
  },
  {
   "cell_type": "code",
   "execution_count": 9,
   "metadata": {},
   "outputs": [],
   "source": [
    "# create a dictionary from the df dataframe where the key is the index and \n",
    "# value is combination of latitude and longitude columns combined as a list\n",
    "lat_long_dict = dict(zip(df.index, df[['Latitude', 'Longitude']].values.tolist()))"
   ]
  },
  {
   "cell_type": "markdown",
   "metadata": {},
   "source": [
    "### Mapping"
   ]
  },
  {
   "cell_type": "code",
   "execution_count": 14,
   "metadata": {},
   "outputs": [],
   "source": [
    "# Create a folium map centered at the mean of the locations\n",
    "m = folium.Map(location=[29.3013, -94.7977], zoom_start=12)"
   ]
  },
  {
   "cell_type": "code",
   "execution_count": 15,
   "metadata": {},
   "outputs": [],
   "source": [
    "starting_url = \"https://api.mapbox.com/directions/v5/mapbox/driving/\"\n",
    "params = {'access_token': mapbox_token, 'overview': 'full'}\n",
    "\n",
    "total_duration = 0    \n",
    "for route in route_dict['Route 2']:\n",
    "    coordinate_lst = []\n",
    "    for i in route:\n",
    "        stop_index = list(i.keys())[0]\n",
    "        accumulated_load = list(i.values())[0]\n",
    "        coordinates = (lat_long_dict[stop_index][1], lat_long_dict[stop_index][0])\n",
    "        coordinate_lst.append(coordinates)\n",
    "    end_url = \";\".join([f\"{lon},{lat}\" for lon, lat in coordinate_lst])\n",
    "    url = starting_url + end_url\n",
    "    response = requests.get(url, params=params)\n",
    "    res = response.json()\n",
    "    total_duration += res['routes'][0]['duration']\n",
    "\n",
    "    polyline_str = res['routes'][0]['geometry']\n",
    "    coords = polyline.decode(polyline_str)\n",
    "\n",
    "    for i in route:\n",
    "        stop_index = list(i.keys())[0]\n",
    "        coordinates = [lat_long_dict[stop_index][0], lat_long_dict[stop_index][1]]\n",
    "        name = name_dict[stop_index]\n",
    "        pickup_capacity = pickup_capacity_dict[stop_index]\n",
    "        html_content = f\"<p>Name: {name}</p><p>pickup: {pickup_capacity}</p>\"\n",
    "        iframe = IFrame(html_content, width=200, height=100)\n",
    "        popup = folium.Popup(iframe, max_width=2650)\n",
    "\n",
    "\n",
    "        folium.Marker(location= coordinates, icon=folium.Icon(color= 'red', \n",
    "                                                                    prefix=\"fa\"),\n",
    "                                                                    popup=popup\n",
    "                    ).add_to(m)\n",
    "\n",
    "    route = folium.PolyLine(locations=coords, color='red', weight=2)\n",
    "    route.add_to(m)"
   ]
  },
  {
   "cell_type": "code",
   "execution_count": 16,
   "metadata": {},
   "outputs": [],
   "source": [
    "# save the map as an html file\n",
    "m.save('data/generated_route_list/CAP_route_now2.html')"
   ]
  },
  {
   "cell_type": "code",
   "execution_count": null,
   "metadata": {},
   "outputs": [],
   "source": []
  }
 ],
 "metadata": {
  "kernelspec": {
   "display_name": "Python 3.9.6 ('perpetual_env': venv)",
   "language": "python",
   "name": "python3"
  },
  "language_info": {
   "codemirror_mode": {
    "name": "ipython",
    "version": 3
   },
   "file_extension": ".py",
   "mimetype": "text/x-python",
   "name": "python",
   "nbconvert_exporter": "python",
   "pygments_lexer": "ipython3",
   "version": "3.9.6"
  },
  "orig_nbformat": 4,
  "vscode": {
   "interpreter": {
    "hash": "69fff313818ca35b5ba43f9eb05e4d29cd28b780d787029af5aa9586bc471be5"
   }
  }
 },
 "nbformat": 4,
 "nbformat_minor": 2
}
