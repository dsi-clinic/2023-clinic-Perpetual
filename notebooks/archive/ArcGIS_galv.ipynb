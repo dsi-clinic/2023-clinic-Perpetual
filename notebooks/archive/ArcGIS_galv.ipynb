{
 "cells": [
  {
   "cell_type": "code",
   "execution_count": null,
   "metadata": {},
   "outputs": [],
   "source": [
    "#this notebook i am experimenting with ArcGis VRP - not fully completed"
   ]
  },
  {
   "cell_type": "code",
   "execution_count": null,
   "metadata": {},
   "outputs": [],
   "source": [
    "# if we end up using it, add:\n",
    "# arcgis ~ 2.2.0.1 add to requirements.txt"
   ]
  },
  {
   "cell_type": "code",
   "execution_count": 1,
   "metadata": {},
   "outputs": [
    {
     "name": "stderr",
     "output_type": "stream",
     "text": [
      "Setting `verify_cert` to False is a security risk, use at your own risk.\n"
     ]
    }
   ],
   "source": [
    "from arcgis.gis import GIS\n",
    "import arcgis.network as network\n",
    "from arcgis.features import FeatureLayer, Feature, FeatureSet, FeatureCollection, analysis\n",
    "import pandas as pd\n",
    "import time\n",
    "import datetime as dt\n",
    "\n",
    "my_gis = GIS('https://www.arcgis.com', 'sarahwalker10', '***', verify_cert=False, set_active=True)"
   ]
  },
  {
   "cell_type": "code",
   "execution_count": null,
   "metadata": {},
   "outputs": [],
   "source": [
    "#1. create the Galveston map in arc gis"
   ]
  },
  {
   "cell_type": "code",
   "execution_count": 3,
   "metadata": {},
   "outputs": [
    {
     "data": {
      "text/plain": [
       "None"
      ]
     },
     "metadata": {},
     "output_type": "display_data"
    }
   ],
   "source": [
    "try:\n",
    "    galveston = my_gis.content.get(\"Galveston\")\n",
    "    display(galveston)\n",
    "except RuntimeError as re:\n",
    "    print(\"You dont have access to the item.\")"
   ]
  },
  {
   "cell_type": "code",
   "execution_count": null,
   "metadata": {},
   "outputs": [],
   "source": []
  },
  {
   "cell_type": "code",
   "execution_count": null,
   "metadata": {},
   "outputs": [],
   "source": []
  }
 ],
 "metadata": {
  "kernelspec": {
   "display_name": "Python 3",
   "language": "python",
   "name": "python3"
  },
  "language_info": {
   "codemirror_mode": {
    "name": "ipython",
    "version": 3
   },
   "file_extension": ".py",
   "mimetype": "text/x-python",
   "name": "python",
   "nbconvert_exporter": "python",
   "pygments_lexer": "ipython3",
   "version": "3.11.2"
  }
 },
 "nbformat": 4,
 "nbformat_minor": 2
}
